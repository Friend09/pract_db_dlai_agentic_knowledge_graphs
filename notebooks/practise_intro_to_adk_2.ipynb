{
 "cells": [
  {
   "cell_type": "markdown",
   "metadata": {},
   "source": [
    "# Lesson 3 - Introduction to Google's ADK - Part II"
   ]
  },
  {
   "cell_type": "markdown",
   "metadata": {
    "id": "Np0plMPXRvoq"
   },
   "source": [
    "In this lesson, you will familiarize yourself with Google's Agent Development Kit (ADK) that you will use in the next lessons to build your multi-agent system.\n",
    "\n",
    "You'll learn:\n",
    "- how to create and run an agent using ADK (Part I)\n",
    "- how to create a team of Agents consisting of a root agent and 2 sub-agents (Part II)\n",
    "- how the team of agents can access a sharable context (Part II)\n",
    "\n",
    "For each agent, you'll define a tool that allows the agent to interact with the Neo4j database we setup for this course. \n"
   ]
  },
  {
   "cell_type": "markdown",
   "metadata": {},
   "source": [
    "<div style=\"background-color:#fff6ff; padding:13px; border-width:3px; border-color:#efe6ef; border-style:solid; border-radius:6px\">\n",
    "<p> 💻 &nbsp; <b>To access the helper.py and neo4j_for_adk.py files:</b> 1) click on the <em>\"File\"</em> option on the top menu of the notebook and then 2) click on <em>\"Open\"</em>.\n",
    "</div>"
   ]
  },
  {
   "cell_type": "markdown",
   "metadata": {},
   "source": [
    "## 3.1. Setup"
   ]
  },
  {
   "cell_type": "code",
   "execution_count": null,
   "metadata": {
    "id": "sbwxKypOSBkN"
   },
   "outputs": [],
   "source": []
  },
  {
   "cell_type": "code",
   "execution_count": null,
   "metadata": {
    "id": "MI_qvZJrSJuR"
   },
   "outputs": [],
   "source": []
  },
  {
   "cell_type": "markdown",
   "metadata": {},
   "source": [
    "## 3.2. Set up AgentCaller"
   ]
  },
  {
   "cell_type": "markdown",
   "metadata": {
    "id": "Dvz7LDhbSZxL"
   },
   "source": [
    "Remember that we defined `AgentCaller` in part I as a simple wrapper for interacting with an ADK agent. Additionally we defined a factory function `make_agent_caller` to make instances of `AgentCaller`. Let's import the factory function from the `helper` script. "
   ]
  },
  {
   "cell_type": "code",
   "execution_count": null,
   "metadata": {},
   "outputs": [],
   "source": []
  },
  {
   "cell_type": "markdown",
   "metadata": {},
   "source": [
    "## 3.3. A Simple Multi-Agent Team \\- Delegation for Greetings & Farewells "
   ]
  },
  {
   "cell_type": "markdown",
   "metadata": {
    "id": "tL5estZ_VKki"
   },
   "source": [
    "Using multiple agents is a common pattern in real-world applications. It allows for better modularity, specialization, and scalability. \n",
    "\n",
    "**You will:**\n",
    "\n",
    "1. Define another simple tool that will handle farewells (`say_goodbye`).  \n",
    "2. Create two new specialized sub-agents: `greeting_agent` and `farewell_agent`.  \n",
    "3. Create a new top-level agent (`cypher_agent_team`) to act as the **root agent**.  \n",
    "4. Configure the root agent with its sub-agents, enabling **automatic delegation**.  \n",
    "5. Test the delegation flow by sending different types of requests to the root agent."
   ]
  },
  {
   "cell_type": "markdown",
   "metadata": {},
   "source": [
    "### 3.3.1 Define Tools for Sub-Agents"
   ]
  },
  {
   "cell_type": "code",
   "execution_count": null,
   "metadata": {},
   "outputs": [],
   "source": []
  },
  {
   "cell_type": "code",
   "execution_count": null,
   "metadata": {
    "id": "Qc7dHr4ZVM6X"
   },
   "outputs": [],
   "source": []
  },
  {
   "cell_type": "markdown",
   "metadata": {},
   "source": [
    "### 3.3.2. Define the Sub-Agents (Greeting & Farewell)"
   ]
  },
  {
   "cell_type": "markdown",
   "metadata": {
    "id": "lkv34_tMVPG3"
   },
   "source": [
    "Now, create the `Agent` instances for our specialists. Notice their highly focused `instruction` and, critically, their clear `description`. The `description` is the primary information the *root agent* uses to decide *when* to delegate to these sub-agents.\n",
    "\n",
    "**Best Practice:** \n",
    "- Sub-agent `description` fields should accurately and concisely summarize their specific capability. This is crucial for effective automatic delegation.\n",
    "- Sub-agent `instruction` fields should be tailored to their limited scope, telling them exactly what to do and *what not* to do (e.g., \"Your *only* task is...\")."
   ]
  },
  {
   "cell_type": "code",
   "execution_count": null,
   "metadata": {
    "id": "tgT7P1doVRA0"
   },
   "outputs": [],
   "source": []
  },
  {
   "cell_type": "code",
   "execution_count": null,
   "metadata": {},
   "outputs": [],
   "source": []
  },
  {
   "cell_type": "markdown",
   "metadata": {},
   "source": [
    "### 3.3.3. Define the Root Agent with Sub-Agents"
   ]
  },
  {
   "cell_type": "markdown",
   "metadata": {
    "id": "IFL_TLFPVS5P"
   },
   "source": [
    "The `root_agent` can now manage sub-agents by including them in the `sub_agents` parameter and updating its instructions to explain when to delegate tasks. With this setup, ADK enables automatic delegation: if a user query is better suited to a sub-agent based on its description, the root agent will automatically hand off control to that sub-agent. For effective delegation, clearly specify in the root agent’s instructions which sub-agents exist and when to delegate to them."
   ]
  },
  {
   "cell_type": "code",
   "execution_count": null,
   "metadata": {
    "id": "nniWunchVV8_"
   },
   "outputs": [],
   "source": []
  },
  {
   "cell_type": "markdown",
   "metadata": {},
   "source": [
    "### 3.3.4. Interact with the Agent Team"
   ]
  },
  {
   "cell_type": "markdown",
   "metadata": {
    "id": "Yg-IjZYVVYXe"
   },
   "source": [
    "Now that you've defined our root agent with its specialized sub-agents, let's test the delegation mechanism."
   ]
  },
  {
   "cell_type": "code",
   "execution_count": null,
   "metadata": {},
   "outputs": [],
   "source": []
  },
  {
   "cell_type": "markdown",
   "metadata": {
    "id": "Zgw3Cn2NVcI7"
   },
   "source": [
    "You've now structured your application with multiple collaborating agents. This modular design is fundamental for building more complex and capable agent systems. In the next step, you'll give our agents the ability to remember information across turns using session state."
   ]
  },
  {
   "cell_type": "markdown",
   "metadata": {},
   "source": [
    "## 3.4. Adding Memory and Personalization with Session State"
   ]
  },
  {
   "cell_type": "markdown",
   "metadata": {
    "id": "s7gD2sCy1qWz"
   },
   "source": [
    "**Optional Reading**\n",
    "\n",
    "Currently, agents can delegate tasks but cannot remember past interactions. To enable memory for context-aware behavior, ADK uses **Session State**—a Python dictionary linked to each user session.\n",
    "\n",
    "> `session.state` is tied to a specific user session identified by `APP_NAME`, `USER_ID`, `SESSION_ID`. It persists information *across multiple conversational turns* within that session. \n",
    "\n",
    "Session State lets agents and tools store and retrieve information across multiple turns. Tools access this state through the ToolContext object, while agents can automatically save their final responses using the output_key setting.\n",
    "\n",
    "1. **`ToolContext`** Tools can accept a `ToolContext` object giving access to the session state via `tool_context.state` allowing tools to save information *during* execution.  \n",
    "2. **`output_key`**  Agents can have `output_key=\"your_key\"` allowing ADK to save the agent's final textual response into `session.state[\"your_key\"]`.\n",
    "\n",
    "These constructs allow agents to remember past details, adapt their actions, and personalize responses during a session."
   ]
  },
  {
   "cell_type": "markdown",
   "metadata": {},
   "source": [
    "### 3.4.1. Create State-Aware hello/goodbye Tools"
   ]
  },
  {
   "cell_type": "markdown",
   "metadata": {
    "id": "652bNx3H16lJ"
   },
   "source": [
    "You will create a new version of the hello/goodbye tools. The key feature is accepting `tool_context: ToolContext` \n",
    "which allows them to access `tool_context.state`. \n",
    "\n",
    "They will write to or read from the `user_name` state variable.\n",
    "\n",
    "\n",
    "* **Key Concept: `ToolContext`** This object is the bridge allowing your tool logic to interact with the session's context, including reading and writing state variables. ADK injects it automatically if defined as the last parameter of your tool function.\n",
    "\n",
    "\n",
    "* **Best Practice:** When reading from state, use `dictionary.get('key', default_value)` to handle cases where the key might not exist yet, ensuring your tool doesn't crash."
   ]
  },
  {
   "cell_type": "code",
   "execution_count": null,
   "metadata": {
    "id": "zK11GeWftFRC"
   },
   "outputs": [],
   "source": []
  },
  {
   "cell_type": "code",
   "execution_count": null,
   "metadata": {},
   "outputs": [],
   "source": []
  },
  {
   "cell_type": "markdown",
   "metadata": {},
   "source": [
    "### 3.4.2. Redefine Sub-Agents and Update Root Agent"
   ]
  },
  {
   "cell_type": "markdown",
   "metadata": {
    "id": "UuQMolpG2Qkg"
   },
   "source": [
    "To ensure this step is self-contained and builds correctly, you first redefine the `greeting_agent` and `farewell_agent` exactly as they were in Step 3.3\\. Then, you define the new root agent (`root_agent_stateful`):\n",
    "\n",
    "* It uses the new `say_hello_stateful` and `say_goodbye_stateful` tools.  \n",
    "* It includes the greeting and farewell sub-agents for delegation.  \n"
   ]
  },
  {
   "cell_type": "code",
   "execution_count": null,
   "metadata": {},
   "outputs": [],
   "source": []
  },
  {
   "cell_type": "code",
   "execution_count": null,
   "metadata": {},
   "outputs": [],
   "source": []
  },
  {
   "cell_type": "code",
   "execution_count": null,
   "metadata": {
    "id": "ox3-2hwTtFOK"
   },
   "outputs": [],
   "source": []
  },
  {
   "cell_type": "markdown",
   "metadata": {},
   "source": [
    "### 3.4.3. Interact and Test State Flow"
   ]
  },
  {
   "cell_type": "markdown",
   "metadata": {
    "id": "P394DfSb2aOw"
   },
   "source": [
    "Now, you can initialize a new `AgentCaller`. This time, you'll provide an initial state.\n",
    "\n",
    "Then you can execute a conversation designed to test the state interactions using the `root_agent_stateful` root agent.\n"
   ]
  },
  {
   "cell_type": "code",
   "execution_count": null,
   "metadata": {},
   "outputs": [],
   "source": []
  },
  {
   "cell_type": "markdown",
   "metadata": {},
   "source": [
    "Now, you can define a conversation, run it, then examine the final session state."
   ]
  },
  {
   "cell_type": "code",
   "execution_count": null,
   "metadata": {
    "id": "WYZfRCp0tFLT"
   },
   "outputs": [],
   "source": []
  },
  {
   "cell_type": "markdown",
   "metadata": {},
   "source": [
    "## 3.5. Finally, An Interactive Conversation"
   ]
  },
  {
   "cell_type": "markdown",
   "metadata": {},
   "source": [
    "Now, let's make this interactive so you can ask your own questions! Run the cell below. It will prompt you to enter your queries directly.\n",
    "\n",
    "**Note:** In the video, we re-run the first cell in 3.4.3 to start with a fresh state (no stored name). You might get different results from the video."
   ]
  },
  {
   "cell_type": "code",
   "execution_count": null,
   "metadata": {},
   "outputs": [],
   "source": []
  }
 ],
 "metadata": {
  "colab": {
   "provenance": [],
   "toc_visible": true
  },
  "kernelspec": {
   "display_name": "Python 3 (ipykernel)",
   "language": "python",
   "name": "python3"
  },
  "language_info": {
   "codemirror_mode": {
    "name": "ipython",
    "version": 3
   },
   "file_extension": ".py",
   "mimetype": "text/x-python",
   "name": "python",
   "nbconvert_exporter": "python",
   "pygments_lexer": "ipython3",
   "version": "3.11.6"
  }
 },
 "nbformat": 4,
 "nbformat_minor": 4
}
