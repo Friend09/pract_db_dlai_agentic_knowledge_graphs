{
 "cells": [
  {
   "cell_type": "markdown",
   "metadata": {
    "id": "Np0plMPXRvoq"
   },
   "source": [
    "# Lesson 6 - Schema Proposal for Structured Data\n",
    "\n",
    "In this lesson, you will build an agent that can propose a knowledge graph schema.\n",
    "The agent will analyze the approved import files and consider how to satisfy the approved user goal.\n",
    "\n",
    "You'll learn:\n",
    "- how to pair agents into a \"critic pattern\"\n",
    "- how to use tools to focus an agent's thinking\n"
   ]
  },
  {
   "cell_type": "markdown",
   "metadata": {},
   "source": [
    "<div style=\"background-color:#fff6ff; padding:13px; border-width:3px; border-color:#efe6ef; border-style:solid; border-radius:6px\">\n",
    "<p> 💻 &nbsp; <b>To access the helper.py, neo4j_for_adk.py and tools.py files :</b> 1) click on the <em>\"File\"</em> option on the top menu of the notebook and then 2) click on <em>\"Open\"</em>.\n",
    "\n",
    "</div>"
   ]
  },
  {
   "cell_type": "markdown",
   "metadata": {},
   "source": [
    "## 6.1. Agent"
   ]
  },
  {
   "cell_type": "markdown",
   "metadata": {},
   "source": [
    "\n",
    "<img src=\"images/entire_solution.png\" width=\"500\">\n",
    "\n",
    "Multiple agents will collaborate to propose construction rules for a knowledge graph\n",
    "\n",
    "- Input: `approved_user_goal`, `approved_files`\n",
    "- Output: `approved_construction_plan`\n",
    "- Tools: `get_approved_user_goal`, `get_approved_files`, `sample_file`, \n",
    "        `propose_node_construction`, `propose_relationship_construction`, \n",
    "        `get_proposed_construction_plan`,`approve_proposed_construction_plan`\n",
    "\n",
    "\n",
    "**Workflow**\n",
    "\n",
    "\n",
    "This workflow will use multiple agents to propose a construction plan for the knowledge graph.\n",
    "\n",
    "A top-level 'schema_refinement_loop' will coordinate three agents operating in a loop:\n",
    "1. A 'schema_proposal_agent' that proposes a schema and construction plan for the knowledge graph.\n",
    "2. A 'schema_critic_agent' that critiques the proposed schema and construction plan for the knowledge graph.\n",
    "3. A 'CheckStatusAndEscalate' agent that checks the feedback of the critic agent"
   ]
  },
  {
   "cell_type": "markdown",
   "metadata": {},
   "source": [
    "## 6.2. Setup"
   ]
  },
  {
   "cell_type": "markdown",
   "metadata": {},
   "source": [
    "The usual import of needed libraries, loading of environment variables, and connection to Neo4j."
   ]
  },
  {
   "cell_type": "code",
   "execution_count": null,
   "metadata": {
    "height": 386,
    "id": "sbwxKypOSBkN"
   },
   "outputs": [],
   "source": []
  },
  {
   "cell_type": "code",
   "execution_count": null,
   "metadata": {
    "height": 184,
    "id": "MI_qvZJrSJuR"
   },
   "outputs": [],
   "source": []
  },
  {
   "cell_type": "markdown",
   "metadata": {},
   "source": [
    "## 6.3. Agent Instructions for Schema Proposal"
   ]
  },
  {
   "cell_type": "code",
   "execution_count": null,
   "metadata": {
    "height": 252
   },
   "outputs": [],
   "source": []
  },
  {
   "cell_type": "code",
   "execution_count": null,
   "metadata": {
    "height": 626
   },
   "outputs": [],
   "source": []
  },
  {
   "cell_type": "code",
   "execution_count": null,
   "metadata": {
    "height": 303
   },
   "outputs": [],
   "source": []
  },
  {
   "cell_type": "code",
   "execution_count": null,
   "metadata": {
    "height": 165
   },
   "outputs": [],
   "source": []
  },
  {
   "cell_type": "markdown",
   "metadata": {},
   "source": [
    "## 6.4. Tool Definitions for Schema Proposal"
   ]
  },
  {
   "cell_type": "code",
   "execution_count": null,
   "metadata": {
    "height": 65
   },
   "outputs": [],
   "source": []
  },
  {
   "cell_type": "code",
   "execution_count": null,
   "metadata": {
    "height": 1238
   },
   "outputs": [],
   "source": []
  },
  {
   "cell_type": "code",
   "execution_count": null,
   "metadata": {
    "height": 864
   },
   "outputs": [],
   "source": []
  },
  {
   "cell_type": "code",
   "execution_count": null,
   "metadata": {
    "height": 915
   },
   "outputs": [],
   "source": []
  },
  {
   "cell_type": "code",
   "execution_count": null,
   "metadata": {
    "height": 422
   },
   "outputs": [],
   "source": []
  },
  {
   "cell_type": "code",
   "execution_count": null,
   "metadata": {
    "height": 439
   },
   "outputs": [],
   "source": []
  },
  {
   "cell_type": "code",
   "execution_count": null,
   "metadata": {
    "height": 116
   },
   "outputs": [],
   "source": []
  },
  {
   "cell_type": "code",
   "execution_count": null,
   "metadata": {
    "height": 235
   },
   "outputs": [],
   "source": []
  },
  {
   "cell_type": "code",
   "execution_count": null,
   "metadata": {
    "height": 148
   },
   "outputs": [],
   "source": []
  },
  {
   "cell_type": "markdown",
   "metadata": {},
   "source": [
    "## 6.5. Define the Agent for Schema Proposal"
   ]
  },
  {
   "cell_type": "code",
   "execution_count": null,
   "metadata": {
    "height": 97
   },
   "outputs": [],
   "source": []
  },
  {
   "cell_type": "code",
   "execution_count": null,
   "metadata": {
    "height": 201
   },
   "outputs": [],
   "source": []
  },
  {
   "cell_type": "code",
   "execution_count": null,
   "metadata": {
    "height": 354
   },
   "outputs": [],
   "source": []
  },
  {
   "cell_type": "markdown",
   "metadata": {},
   "source": [
    "### Try the Agent for Schema Proposal"
   ]
  },
  {
   "cell_type": "markdown",
   "metadata": {},
   "source": [
    "<p style=\"background-color:#f7fff8; padding:15px; border-width:3px; border-color:#e0f0e0; border-style:solid; border-radius:6px\"> 🚨\n",
    "&nbsp; <b>Different Run Results:</b> The output generated by LLMs can vary with each execution due to their stochastic nature. Your results might differ from those shown in the video.</p>"
   ]
  },
  {
   "cell_type": "code",
   "execution_count": null,
   "metadata": {
    "height": 235
   },
   "outputs": [],
   "source": []
  },
  {
   "cell_type": "markdown",
   "metadata": {},
   "source": [
    "## 6.6. Agent Instructions for Schema Critic"
   ]
  },
  {
   "cell_type": "code",
   "execution_count": null,
   "metadata": {
    "height": 99
   },
   "outputs": [],
   "source": []
  },
  {
   "cell_type": "code",
   "execution_count": null,
   "metadata": {
    "height": 184
   },
   "outputs": [],
   "source": []
  },
  {
   "cell_type": "code",
   "execution_count": null,
   "metadata": {
    "height": 252
   },
   "outputs": [],
   "source": []
  },
  {
   "cell_type": "code",
   "execution_count": null,
   "metadata": {
    "height": 165
   },
   "outputs": [],
   "source": []
  },
  {
   "cell_type": "markdown",
   "metadata": {},
   "source": [
    "## 6.7. Tool Definitions for Schema Critic"
   ]
  },
  {
   "cell_type": "markdown",
   "metadata": {},
   "source": [
    "The schema critic has read-only tools so that it can not make any changes directly, only suggest changes."
   ]
  },
  {
   "cell_type": "code",
   "execution_count": null,
   "metadata": {
    "height": 97
   },
   "outputs": [],
   "source": []
  },
  {
   "cell_type": "markdown",
   "metadata": {},
   "source": [
    "## 6.8. Define the Agent for Schema Critic"
   ]
  },
  {
   "cell_type": "markdown",
   "metadata": {},
   "source": [
    "The result of the schema critic is placed automatically in the `feedback` key of the context state."
   ]
  },
  {
   "cell_type": "code",
   "execution_count": null,
   "metadata": {
    "height": 218
   },
   "outputs": [],
   "source": []
  },
  {
   "cell_type": "markdown",
   "metadata": {},
   "source": [
    "## 6.9. Define the refinement loop"
   ]
  },
  {
   "cell_type": "markdown",
   "metadata": {},
   "source": [
    "### CheckStatusAndEscalate agent"
   ]
  },
  {
   "cell_type": "code",
   "execution_count": null,
   "metadata": {
    "height": 218
   },
   "outputs": [],
   "source": []
  },
  {
   "cell_type": "markdown",
   "metadata": {},
   "source": [
    "### Loop agent"
   ]
  },
  {
   "cell_type": "code",
   "execution_count": null,
   "metadata": {
    "height": 167
   },
   "outputs": [],
   "source": []
  },
  {
   "cell_type": "markdown",
   "metadata": {},
   "source": [
    "### Try the refinement loop"
   ]
  },
  {
   "cell_type": "markdown",
   "metadata": {},
   "source": [
    "<p style=\"background-color:#f7fff8; padding:15px; border-width:3px; border-color:#e0f0e0; border-style:solid; border-radius:6px\"> 🚨\n",
    "&nbsp; <b>Different Run Results:</b> The output generated by LLMs can vary with each execution due to their stochastic nature. Your results might differ from those shown in the video.</p>"
   ]
  },
  {
   "cell_type": "code",
   "execution_count": null,
   "metadata": {
    "height": 473
   },
   "outputs": [],
   "source": []
  },
  {
   "cell_type": "markdown",
   "metadata": {},
   "source": [
    "## 6.11. Optional - Sequence diagram illustrating the workflow of  \"Refinement Loop Agent\"  "
   ]
  },
  {
   "cell_type": "markdown",
   "metadata": {},
   "source": [
    "<img src=\"images/schema_proposal_structured_sequence.png\" width=\"600\">"
   ]
  },
  {
   "cell_type": "markdown",
   "metadata": {},
   "source": [
    "## 6.12. Extra - Create the top-level agent"
   ]
  },
  {
   "cell_type": "markdown",
   "metadata": {},
   "source": [
    "The top-level agent will manage collaboration with the user and coordinates the work\n",
    "of the sub-agents by calling them as a tool.\n",
    "\n",
    "```python\n",
    "\n",
    "from google.adk.tools import agent_tool\n",
    "from google.adk.agents.callback_context import CallbackContext\n",
    "\n",
    "\n",
    "schema_proposal_coordinator_instruction = \"\"\"\n",
    "    You are a coordinator for the schema proposal process. Use tools to propose a schema to the user.\n",
    "    If the user disapproves, use the tools to refine the schema and ask the user to approve again.\n",
    "    If the user approves, use the 'approve_proposed_schema' tool to record the approval.\n",
    "    When the schema approval has been recorded, use the 'finished' tool.\n",
    "\n",
    "    Guidance for tool use:\n",
    "    - Use the 'schema_refinement_loop' tool to produce or update a proposed schema with construction rules. \n",
    "    - Use the 'get_proposed_schema' tool to get the proposed schema\n",
    "    - Use the 'get_proposed_construction_plan' tool to get the construction rules for transforming approved files into the schema\n",
    "    - Present the proposed schema and construction rules to the user for approval\n",
    "    - If they disapprove, consider their feedback and go back to step 1\n",
    "    - If the user approves, use the 'approve_proposed_schema' tool and the 'approve_proposed_construction_plan' tool to record the approval\n",
    "\"\"\"\n",
    "\n",
    "refinement_loop_as_tool = agent_tool.AgentTool(schema_refinement_loop)\n",
    "\n",
    "\n",
    "# initialize context with blank feedback, which may get filled later by the schema_critic_agent\n",
    "def initialize_feedback(callback_context: CallbackContext) -> None:\n",
    "    callback_context.state[\"feedback\"] = \"\"\n",
    "\n",
    "schema_proposal_coordinator = LlmAgent(\n",
    "    name=\"schema_proposal_coordinator\",\n",
    "    model=llm,\n",
    "    instruction=schema_proposal_coordinator_instruction,\n",
    "    tools=[\n",
    "        refinement_loop_as_tool, \n",
    "        get_proposed_construction_plan, \n",
    "        approve_proposed_construction_plan\n",
    "    ], \n",
    "    before_agent_callback=initialize_feedback\n",
    ")\n",
    "\n",
    "structured_schema_proposal_caller = await make_agent_caller(schema_proposal_coordinator, {\n",
    "    \"feedback\": \"\",\n",
    "    \"approved_user_goal\": {\n",
    "        \"kind_of_graph\": \"supply chain analysis\",\n",
    "        \"description\": \"A multi-level bill of materials for manufactured products, useful for root cause analysis..\"\n",
    "    },\n",
    "    \"approved_files\": [\n",
    "        'assemblies.csv', \n",
    "        'parts.csv', \n",
    "        'part_supplier_mapping.csv', \n",
    "        'products.csv', \n",
    "        'suppliers.csv'\n",
    "    ]\n",
    "})\n",
    "\n",
    "# Run the Initial Conversation\n",
    "await structured_schema_proposal_caller.call(\"How can these files be imported?\")\n",
    "\n",
    "session_end = await structured_schema_proposal_caller.get_session()\n",
    "print(\"Session state: \", session_end.state)\n",
    "\n",
    "# Agree with the file suggestions\n",
    "await structured_schema_proposal_caller.call(\"Yes, let's do it!\", True)\n",
    "\n",
    "session_end = await structured_schema_proposal_caller.get_session()\n",
    "\n",
    "print(\"Approved construction plan: \", session_end.state['approved_user_goal'])\n",
    "\n",
    "```"
   ]
  }
 ],
 "metadata": {
  "colab": {
   "provenance": [],
   "toc_visible": true
  },
  "kernelspec": {
   "display_name": "Python 3 (ipykernel)",
   "language": "python",
   "name": "python3"
  },
  "language_info": {
   "codemirror_mode": {
    "name": "ipython",
    "version": 3
   },
   "file_extension": ".py",
   "mimetype": "text/x-python",
   "name": "python",
   "nbconvert_exporter": "python",
   "pygments_lexer": "ipython3",
   "version": "3.11.3"
  }
 },
 "nbformat": 4,
 "nbformat_minor": 4
}
