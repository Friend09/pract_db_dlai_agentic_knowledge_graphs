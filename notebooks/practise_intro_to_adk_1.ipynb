{
 "cells": [
  {
   "cell_type": "markdown",
   "metadata": {},
   "source": [
    "# Lesson 3 - Introduction to Google's ADK - Part I"
   ]
  },
  {
   "cell_type": "markdown",
   "metadata": {
    "id": "Np0plMPXRvoq"
   },
   "source": [
    "In this lesson, you will familiarize yourself with Google's Agent Development Kit (ADK) that you will use in the next lessons to build your multi-agent system.\n",
    "\n",
    "You'll learn:\n",
    "- how to create and run an agent using ADK (Part I)\n",
    "- how to create a team of Agents consisting of a root agent and 2 sub-agents (Part II)\n",
    "- how the team of agents can access a sharable context (Part II)\n",
    "\n",
    "For each agent, you'll define a tool that allows the agent to interact with the Neo4j database we setup for this course. \n"
   ]
  },
  {
   "cell_type": "markdown",
   "metadata": {},
   "source": [
    "## 3.1. Setup"
   ]
  },
  {
   "cell_type": "code",
   "execution_count": null,
   "metadata": {
    "height": 285,
    "id": "sbwxKypOSBkN"
   },
   "outputs": [],
   "source": []
  },
  {
   "cell_type": "code",
   "execution_count": null,
   "metadata": {
    "height": 217,
    "id": "MI_qvZJrSJuR"
   },
   "outputs": [],
   "source": []
  },
  {
   "cell_type": "markdown",
   "metadata": {},
   "source": [
    "## 3.2. Explore `neo4j_for_adk`"
   ]
  },
  {
   "cell_type": "markdown",
   "metadata": {},
   "source": [
    "In your lab environment, you are provided with a graph database that your agent will interact with. For that, you are provided with a helper called `neo4j_for_adk` from which you'll import the instance `graphdb`, which wraps the Neo4j Python driver to make it ADK friendly."
   ]
  },
  {
   "cell_type": "code",
   "execution_count": null,
   "metadata": {
    "height": 47
   },
   "outputs": [],
   "source": []
  },
  {
   "cell_type": "markdown",
   "metadata": {},
   "source": [
    "<div style=\"background-color:#fff6ff; padding:13px; border-width:3px; border-color:#efe6ef; border-style:solid; border-radius:6px\">\n",
    "<p> 💻 &nbsp; <b>To access neo4j_for_adk.py </b> 1) click on the <em>\"File\"</em> option on the top menu of the notebook and then 2) click on <em>\"Open\"</em>.\n",
    "\n",
    "</div>"
   ]
  },
  {
   "cell_type": "markdown",
   "metadata": {
    "jp-MarkdownHeadingCollapsed": true
   },
   "source": [
    "`graphdb` has a method `send_query` which expects a cypher query, runs the query and then formats the results as follows:\n",
    "\n",
    "<img src=\"images/send_query_expln.png\" alt=\"diagram of the send_query method from the graphdb module showing success or failure response to a query\" width=400>  "
   ]
  },
  {
   "cell_type": "code",
   "execution_count": null,
   "metadata": {
    "height": 81
   },
   "outputs": [],
   "source": []
  },
  {
   "cell_type": "markdown",
   "metadata": {},
   "source": [
    "**Optional Note**: Neo4j Database Setup\n",
    "\n",
    "We set up the database as a sidecar container. You can find the Docker installation instructions (and others) [here](https://neo4j.com/docs/operations-manual/current/docker/introduction/). We configured the username and password as part of the database setup. We also installed a plugin called [APOC](https://neo4j.com/labs/apoc/) (which will be needed in the last notebook). We defined these environment variables, which are used by `neo4j_for_adk.py`:\n",
    "- `NEO4J_URI=\"bolt://localhost:7687\"`\n",
    "- `NEO4J_USERNAME=\"your_database_username\"`\n",
    "- `NEO4J_PASSWORD=\"your_database_password\"`"
   ]
  },
  {
   "cell_type": "markdown",
   "metadata": {},
   "source": [
    "## 3.3. Define your Agent's Tool"
   ]
  },
  {
   "cell_type": "code",
   "execution_count": null,
   "metadata": {
    "height": 319,
    "id": "ILy7YTCbSRAT"
   },
   "outputs": [],
   "source": []
  },
  {
   "cell_type": "code",
   "execution_count": null,
   "metadata": {
    "height": 47
   },
   "outputs": [],
   "source": []
  },
  {
   "cell_type": "code",
   "execution_count": null,
   "metadata": {
    "height": 47
   },
   "outputs": [],
   "source": []
  },
  {
   "cell_type": "markdown",
   "metadata": {},
   "source": [
    "## 3.4. Define the Agent `friendly_cypher_agent`"
   ]
  },
  {
   "cell_type": "markdown",
   "metadata": {
    "id": "hAM0BqGWSTo5"
   },
   "source": [
    "**Optional Reading**\n",
    "\n",
    "- An `Agent` in Google ADK orchestrates the interaction between the user, the LLM, and the available tools\n",
    "\n",
    "- you configure it with several key parameters:\n",
    "    * `name`: A unique identifier for this agent (e.g., \"friendly_cypher_agent\\_v1\").  \n",
    "    * `model`: Specifies which LLM to use. you'll use the `llm` variable we defined above.  \n",
    "    * `description`: A summary of the agent's overall purpose. This is like public documentation that helps other agents decide when to delegate tasks to *this* agent.  \n",
    "    * `instruction`: Detailed guidance given to the LLM on how this agent should behave, its persona, goals, and specifically *how and when* to utilize its assigned `tools`.  \n",
    "    * `tools`: A list containing the actual Python tool functions the agent is allowed to use (e.g., `[say_hello]`).\n",
    "\n",
    "**Best Practice:** \n",
    "- Provide clear and specific `instruction` prompts. The more detailed the instructions, the better the LLM can understand its role and how to use its tools effectively. Be explicit about error handling if needed.\n",
    "- Choose descriptive `name` and `description` values. These are used internally by ADK and are vital for features like automatic delegation (covered later)."
   ]
  },
  {
   "cell_type": "code",
   "execution_count": null,
   "metadata": {
    "height": 285,
    "id": "6Ho1COmKSUeV"
   },
   "outputs": [],
   "source": []
  },
  {
   "cell_type": "markdown",
   "metadata": {},
   "source": [
    "## 3.5. Run the Agent"
   ]
  },
  {
   "cell_type": "markdown",
   "metadata": {},
   "source": [
    "To run an agent, you'll need some additional components namely an execution environment and memory.\n"
   ]
  },
  {
   "cell_type": "markdown",
   "metadata": {},
   "source": [
    "### 3.5.1. Event Loop   "
   ]
  },
  {
   "cell_type": "markdown",
   "metadata": {},
   "source": [
    "<img src=\"images/event_loop_3.png\"  alt=\"diagram of Agent Development Kit runtime showing the Runner component handling an Event Loop with Services for the User\" width=400> \n",
    "\n",
    "The [ADK Runtime](https://google.github.io/adk-docs/runtime/) orchestrates agents throughout execution. The main component is an event-driven loop intermediated by a Runner. When the runner receives a user query, it asks the agent to start processing. The agent processes the query and emits an event. The Runner receives the event, records state changes, updates memory and forwards the event to the user interface. After that, the agent's logic resumes and the cycle repeats until no further events are produced by the agent and the user has a response."
   ]
  },
  {
   "cell_type": "markdown",
   "metadata": {},
   "source": [
    "### 3.5.2. Create the Runner and SessionService"
   ]
  },
  {
   "cell_type": "markdown",
   "metadata": {},
   "source": [
    "Let's assume we have a single user talking to the agent in a single session. Let's create this user, the session and the runner:\n",
    "* `SessionService`: Responsible for managing conversation history and state for different users and sessions. The `InMemorySessionService` is a simple implementation that stores everything in memory, suitable for testing and simple applications. It keeps track of the messages exchanged.  \n",
    "* `Runner`: The engine that orchestrates the interaction flow. It takes user input, routes it to the appropriate agent, manages calls to the LLM and tools based on the agent's logic, handles session updates via the `SessionService`, and yields events representing the progress of the interaction."
   ]
  },
  {
   "cell_type": "code",
   "execution_count": null,
   "metadata": {
    "height": 302
   },
   "outputs": [],
   "source": []
  },
  {
   "cell_type": "markdown",
   "metadata": {},
   "source": [
    "### 3.5.3. Run the Agent"
   ]
  },
  {
   "cell_type": "markdown",
   "metadata": {},
   "source": [
    "Here's what's happening:\n",
    " \n",
    "1. Package the user query into the ADK `Content` format.\n",
    "2. Call`runner.run_async` (providing it with user/session context and the new message)\n",
    "4. Iterate through the **Events** yielded by the runner. Events represent steps in the agent's execution (e.g., tool call requested, tool result received, intermediate LLM thought, final response).  \n",
    "5. Identify and print the **final response** event using `event.is_final_response()`.\n",
    "\n",
    "**Why `async`?** Interactions with LLMs and potentially tools (like external APIs) are I/O-bound operations. Using `asyncio` allows the program to handle these operations efficiently without blocking execution."
   ]
  },
  {
   "cell_type": "code",
   "execution_count": null,
   "metadata": {
    "height": 436
   },
   "outputs": [],
   "source": []
  },
  {
   "cell_type": "markdown",
   "metadata": {},
   "source": [
    "## 3.6. Create Helper Class: `AgentCaller`"
   ]
  },
  {
   "cell_type": "markdown",
   "metadata": {},
   "source": [
    "### 3.6.1 Set up AgentCaller"
   ]
  },
  {
   "cell_type": "markdown",
   "metadata": {
    "id": "Dvz7LDhbSZxL"
   },
   "source": [
    "Let's wrap the runner in the helper class: `AgentCaller`. This helper will make it easier to make repeated calls to the agent by assuming we have a single user talking to the agent in a single session."
   ]
  },
  {
   "cell_type": "code",
   "execution_count": null,
   "metadata": {
    "height": 776,
    "id": "h30dNtqMSah5"
   },
   "outputs": [],
   "source": []
  },
  {
   "cell_type": "markdown",
   "metadata": {},
   "source": [
    "### 3.6.2 Make an instance of the AgentCaller"
   ]
  },
  {
   "cell_type": "markdown",
   "metadata": {},
   "source": [
    "Rather than a class constructor, you'll use a factory method which needs to make some async calls to initialize the components (user_id, session_id and runner) before passing to them to the AgentCaller.\n",
    "\n",
    "The factory method takes some parameters:\n",
    "\n",
    "* `Agent`: the agent that we defined earlier\n",
    "* `initial_state`: optional initialization of the agent's \"memory\"\n",
    "\n",
    "Inside, the method will create memory for the agent and a runner.\n"
   ]
  },
  {
   "cell_type": "code",
   "execution_count": null,
   "metadata": {
    "height": 404
   },
   "outputs": [],
   "source": []
  },
  {
   "cell_type": "markdown",
   "metadata": {},
   "source": [
    "### 3.6.3. Run the Conversation"
   ]
  },
  {
   "cell_type": "markdown",
   "metadata": {
    "id": "Z6DQSqrqk5ic"
   },
   "source": [
    "Now you can define an async function to run the conversation."
   ]
  },
  {
   "cell_type": "code",
   "execution_count": null,
   "metadata": {
    "height": 183,
    "id": "mEd2QhHyUKY8"
   },
   "outputs": [],
   "source": []
  }
 ],
 "metadata": {
  "colab": {
   "provenance": [],
   "toc_visible": true
  },
  "kernelspec": {
   "display_name": "Python 3 (ipykernel)",
   "language": "python",
   "name": "python3"
  },
  "language_info": {
   "codemirror_mode": {
    "name": "ipython",
    "version": 3
   },
   "file_extension": ".py",
   "mimetype": "text/x-python",
   "name": "python",
   "nbconvert_exporter": "python",
   "pygments_lexer": "ipython3",
   "version": "3.11.3"
  }
 },
 "nbformat": 4,
 "nbformat_minor": 4
}
